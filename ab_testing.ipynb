{
 "cells": [
  {
   "cell_type": "code",
   "execution_count": 197,
   "id": "16fcba2c",
   "metadata": {},
   "outputs": [],
   "source": [
    "# Import modules\n",
    "import pandas as pd\n",
    "import numpy as np\n",
    "import matplotlib.pyplot as plt\n",
    "import seaborn as sns\n",
    "import warnings\n",
    "warnings.simplefilter('ignore')\n",
    "\n",
    "# Import the module for statistical test\n",
    "from statsmodels.stats.proportion import proportions_ztest\n",
    "import scipy.stats as stats\n",
    "\n",
    "pd.set_option('display.max_columns', None)\n",
    "plt.style.use('bmh')\n",
    "sns.set()"
   ]
  },
  {
   "cell_type": "code",
   "execution_count": 142,
   "id": "e72b77f4",
   "metadata": {},
   "outputs": [],
   "source": [
    "# Import the data\n",
    "data = 'marketing_AB.csv'\n",
    "df = pd.read_csv(data)"
   ]
  },
  {
   "cell_type": "markdown",
   "id": "6c806a9d",
   "metadata": {},
   "source": [
    "# Explore Dataset"
   ]
  },
  {
   "cell_type": "markdown",
   "id": "3a063cd3",
   "metadata": {},
   "source": [
    "## Basic Information"
   ]
  },
  {
   "cell_type": "code",
   "execution_count": 143,
   "id": "1a0298be",
   "metadata": {
    "scrolled": true
   },
   "outputs": [
    {
     "data": {
      "text/html": [
       "<div>\n",
       "<style scoped>\n",
       "    .dataframe tbody tr th:only-of-type {\n",
       "        vertical-align: middle;\n",
       "    }\n",
       "\n",
       "    .dataframe tbody tr th {\n",
       "        vertical-align: top;\n",
       "    }\n",
       "\n",
       "    .dataframe thead th {\n",
       "        text-align: right;\n",
       "    }\n",
       "</style>\n",
       "<table border=\"1\" class=\"dataframe\">\n",
       "  <thead>\n",
       "    <tr style=\"text-align: right;\">\n",
       "      <th></th>\n",
       "      <th>Unnamed: 0</th>\n",
       "      <th>user id</th>\n",
       "      <th>test group</th>\n",
       "      <th>converted</th>\n",
       "      <th>total ads</th>\n",
       "      <th>most ads day</th>\n",
       "      <th>most ads hour</th>\n",
       "    </tr>\n",
       "  </thead>\n",
       "  <tbody>\n",
       "    <tr>\n",
       "      <th>0</th>\n",
       "      <td>0</td>\n",
       "      <td>1069124</td>\n",
       "      <td>ad</td>\n",
       "      <td>False</td>\n",
       "      <td>130</td>\n",
       "      <td>Monday</td>\n",
       "      <td>20</td>\n",
       "    </tr>\n",
       "    <tr>\n",
       "      <th>1</th>\n",
       "      <td>1</td>\n",
       "      <td>1119715</td>\n",
       "      <td>ad</td>\n",
       "      <td>False</td>\n",
       "      <td>93</td>\n",
       "      <td>Tuesday</td>\n",
       "      <td>22</td>\n",
       "    </tr>\n",
       "    <tr>\n",
       "      <th>2</th>\n",
       "      <td>2</td>\n",
       "      <td>1144181</td>\n",
       "      <td>ad</td>\n",
       "      <td>False</td>\n",
       "      <td>21</td>\n",
       "      <td>Tuesday</td>\n",
       "      <td>18</td>\n",
       "    </tr>\n",
       "    <tr>\n",
       "      <th>3</th>\n",
       "      <td>3</td>\n",
       "      <td>1435133</td>\n",
       "      <td>ad</td>\n",
       "      <td>False</td>\n",
       "      <td>355</td>\n",
       "      <td>Tuesday</td>\n",
       "      <td>10</td>\n",
       "    </tr>\n",
       "    <tr>\n",
       "      <th>4</th>\n",
       "      <td>4</td>\n",
       "      <td>1015700</td>\n",
       "      <td>ad</td>\n",
       "      <td>False</td>\n",
       "      <td>276</td>\n",
       "      <td>Friday</td>\n",
       "      <td>14</td>\n",
       "    </tr>\n",
       "  </tbody>\n",
       "</table>\n",
       "</div>"
      ],
      "text/plain": [
       "   Unnamed: 0  user id test group  converted  total ads most ads day  \\\n",
       "0           0  1069124         ad      False        130       Monday   \n",
       "1           1  1119715         ad      False         93      Tuesday   \n",
       "2           2  1144181         ad      False         21      Tuesday   \n",
       "3           3  1435133         ad      False        355      Tuesday   \n",
       "4           4  1015700         ad      False        276       Friday   \n",
       "\n",
       "   most ads hour  \n",
       "0             20  \n",
       "1             22  \n",
       "2             18  \n",
       "3             10  \n",
       "4             14  "
      ]
     },
     "execution_count": 143,
     "metadata": {},
     "output_type": "execute_result"
    }
   ],
   "source": [
    "# Display 5 top rows of the data\n",
    "df.head()"
   ]
  },
  {
   "cell_type": "code",
   "execution_count": 144,
   "id": "8470dafa",
   "metadata": {},
   "outputs": [
    {
     "name": "stdout",
     "output_type": "stream",
     "text": [
      "<class 'pandas.core.frame.DataFrame'>\n",
      "RangeIndex: 588101 entries, 0 to 588100\n",
      "Data columns (total 7 columns):\n",
      " #   Column         Non-Null Count   Dtype \n",
      "---  ------         --------------   ----- \n",
      " 0   Unnamed: 0     588101 non-null  int64 \n",
      " 1   user id        588101 non-null  int64 \n",
      " 2   test group     588101 non-null  object\n",
      " 3   converted      588101 non-null  bool  \n",
      " 4   total ads      588101 non-null  int64 \n",
      " 5   most ads day   588101 non-null  object\n",
      " 6   most ads hour  588101 non-null  int64 \n",
      "dtypes: bool(1), int64(4), object(2)\n",
      "memory usage: 27.5+ MB\n"
     ]
    }
   ],
   "source": [
    "# Overview data\n",
    "df.info()"
   ]
  },
  {
   "cell_type": "code",
   "execution_count": 145,
   "id": "049226c9",
   "metadata": {},
   "outputs": [
    {
     "data": {
      "text/plain": [
       "(588101, 7)"
      ]
     },
     "execution_count": 145,
     "metadata": {},
     "output_type": "execute_result"
    }
   ],
   "source": [
    "# Get data shape\n",
    "df.shape"
   ]
  },
  {
   "cell_type": "code",
   "execution_count": 146,
   "id": "2d26bb9d",
   "metadata": {},
   "outputs": [
    {
     "data": {
      "text/html": [
       "<div>\n",
       "<style scoped>\n",
       "    .dataframe tbody tr th:only-of-type {\n",
       "        vertical-align: middle;\n",
       "    }\n",
       "\n",
       "    .dataframe tbody tr th {\n",
       "        vertical-align: top;\n",
       "    }\n",
       "\n",
       "    .dataframe thead th {\n",
       "        text-align: right;\n",
       "    }\n",
       "</style>\n",
       "<table border=\"1\" class=\"dataframe\">\n",
       "  <thead>\n",
       "    <tr style=\"text-align: right;\">\n",
       "      <th></th>\n",
       "      <th>count</th>\n",
       "      <th>unique</th>\n",
       "      <th>top</th>\n",
       "      <th>freq</th>\n",
       "      <th>mean</th>\n",
       "      <th>std</th>\n",
       "      <th>min</th>\n",
       "      <th>25%</th>\n",
       "      <th>50%</th>\n",
       "      <th>75%</th>\n",
       "      <th>max</th>\n",
       "    </tr>\n",
       "  </thead>\n",
       "  <tbody>\n",
       "    <tr>\n",
       "      <th>Unnamed: 0</th>\n",
       "      <td>588101.0</td>\n",
       "      <td>NaN</td>\n",
       "      <td>NaN</td>\n",
       "      <td>NaN</td>\n",
       "      <td>294050.0</td>\n",
       "      <td>169770.279667</td>\n",
       "      <td>0.0</td>\n",
       "      <td>147025.0</td>\n",
       "      <td>294050.0</td>\n",
       "      <td>441075.0</td>\n",
       "      <td>588100.0</td>\n",
       "    </tr>\n",
       "    <tr>\n",
       "      <th>user id</th>\n",
       "      <td>588101.0</td>\n",
       "      <td>NaN</td>\n",
       "      <td>NaN</td>\n",
       "      <td>NaN</td>\n",
       "      <td>1310692.215793</td>\n",
       "      <td>202225.983128</td>\n",
       "      <td>900000.0</td>\n",
       "      <td>1143190.0</td>\n",
       "      <td>1313725.0</td>\n",
       "      <td>1484088.0</td>\n",
       "      <td>1654483.0</td>\n",
       "    </tr>\n",
       "    <tr>\n",
       "      <th>test group</th>\n",
       "      <td>588101</td>\n",
       "      <td>2</td>\n",
       "      <td>ad</td>\n",
       "      <td>564577</td>\n",
       "      <td>NaN</td>\n",
       "      <td>NaN</td>\n",
       "      <td>NaN</td>\n",
       "      <td>NaN</td>\n",
       "      <td>NaN</td>\n",
       "      <td>NaN</td>\n",
       "      <td>NaN</td>\n",
       "    </tr>\n",
       "    <tr>\n",
       "      <th>converted</th>\n",
       "      <td>588101</td>\n",
       "      <td>2</td>\n",
       "      <td>False</td>\n",
       "      <td>573258</td>\n",
       "      <td>NaN</td>\n",
       "      <td>NaN</td>\n",
       "      <td>NaN</td>\n",
       "      <td>NaN</td>\n",
       "      <td>NaN</td>\n",
       "      <td>NaN</td>\n",
       "      <td>NaN</td>\n",
       "    </tr>\n",
       "    <tr>\n",
       "      <th>total ads</th>\n",
       "      <td>588101.0</td>\n",
       "      <td>NaN</td>\n",
       "      <td>NaN</td>\n",
       "      <td>NaN</td>\n",
       "      <td>24.820876</td>\n",
       "      <td>43.715181</td>\n",
       "      <td>1.0</td>\n",
       "      <td>4.0</td>\n",
       "      <td>13.0</td>\n",
       "      <td>27.0</td>\n",
       "      <td>2065.0</td>\n",
       "    </tr>\n",
       "    <tr>\n",
       "      <th>most ads day</th>\n",
       "      <td>588101</td>\n",
       "      <td>7</td>\n",
       "      <td>Friday</td>\n",
       "      <td>92608</td>\n",
       "      <td>NaN</td>\n",
       "      <td>NaN</td>\n",
       "      <td>NaN</td>\n",
       "      <td>NaN</td>\n",
       "      <td>NaN</td>\n",
       "      <td>NaN</td>\n",
       "      <td>NaN</td>\n",
       "    </tr>\n",
       "    <tr>\n",
       "      <th>most ads hour</th>\n",
       "      <td>588101.0</td>\n",
       "      <td>NaN</td>\n",
       "      <td>NaN</td>\n",
       "      <td>NaN</td>\n",
       "      <td>14.469061</td>\n",
       "      <td>4.834634</td>\n",
       "      <td>0.0</td>\n",
       "      <td>11.0</td>\n",
       "      <td>14.0</td>\n",
       "      <td>18.0</td>\n",
       "      <td>23.0</td>\n",
       "    </tr>\n",
       "  </tbody>\n",
       "</table>\n",
       "</div>"
      ],
      "text/plain": [
       "                  count unique     top    freq            mean            std  \\\n",
       "Unnamed: 0     588101.0    NaN     NaN     NaN        294050.0  169770.279667   \n",
       "user id        588101.0    NaN     NaN     NaN  1310692.215793  202225.983128   \n",
       "test group       588101      2      ad  564577             NaN            NaN   \n",
       "converted        588101      2   False  573258             NaN            NaN   \n",
       "total ads      588101.0    NaN     NaN     NaN       24.820876      43.715181   \n",
       "most ads day     588101      7  Friday   92608             NaN            NaN   \n",
       "most ads hour  588101.0    NaN     NaN     NaN       14.469061       4.834634   \n",
       "\n",
       "                    min        25%        50%        75%        max  \n",
       "Unnamed: 0          0.0   147025.0   294050.0   441075.0   588100.0  \n",
       "user id        900000.0  1143190.0  1313725.0  1484088.0  1654483.0  \n",
       "test group          NaN        NaN        NaN        NaN        NaN  \n",
       "converted           NaN        NaN        NaN        NaN        NaN  \n",
       "total ads           1.0        4.0       13.0       27.0     2065.0  \n",
       "most ads day        NaN        NaN        NaN        NaN        NaN  \n",
       "most ads hour       0.0       11.0       14.0       18.0       23.0  "
      ]
     },
     "execution_count": 146,
     "metadata": {},
     "output_type": "execute_result"
    }
   ],
   "source": [
    "# Descibe data\n",
    "df.describe(include='all').T"
   ]
  },
  {
   "cell_type": "code",
   "execution_count": 147,
   "id": "0b4dcf22",
   "metadata": {},
   "outputs": [
    {
     "data": {
      "text/plain": [
       "Index(['Unnamed: 0', 'user id', 'test group', 'converted', 'total ads',\n",
       "       'most ads day', 'most ads hour'],\n",
       "      dtype='object')"
      ]
     },
     "execution_count": 147,
     "metadata": {},
     "output_type": "execute_result"
    }
   ],
   "source": [
    "# Get name of columns\n",
    "df.columns"
   ]
  },
  {
   "cell_type": "markdown",
   "id": "15babf01",
   "metadata": {},
   "source": [
    "## Data Cleansing"
   ]
  },
  {
   "cell_type": "code",
   "execution_count": 148,
   "id": "deda7dbc",
   "metadata": {},
   "outputs": [
    {
     "data": {
      "text/plain": [
       "Unnamed: 0       0\n",
       "user id          0\n",
       "test group       0\n",
       "converted        0\n",
       "total ads        0\n",
       "most ads day     0\n",
       "most ads hour    0\n",
       "dtype: int64"
      ]
     },
     "execution_count": 148,
     "metadata": {},
     "output_type": "execute_result"
    }
   ],
   "source": [
    "# checking for NUll\n",
    "df.isnull().sum()"
   ]
  },
  {
   "cell_type": "code",
   "execution_count": 149,
   "id": "245f9940",
   "metadata": {},
   "outputs": [
    {
     "data": {
      "text/plain": [
       "0"
      ]
     },
     "execution_count": 149,
     "metadata": {},
     "output_type": "execute_result"
    }
   ],
   "source": [
    "# checking for duplicated\n",
    "df.duplicated().sum()"
   ]
  },
  {
   "cell_type": "code",
   "execution_count": 150,
   "id": "38639787",
   "metadata": {},
   "outputs": [
    {
     "data": {
      "text/html": [
       "<div>\n",
       "<style scoped>\n",
       "    .dataframe tbody tr th:only-of-type {\n",
       "        vertical-align: middle;\n",
       "    }\n",
       "\n",
       "    .dataframe tbody tr th {\n",
       "        vertical-align: top;\n",
       "    }\n",
       "\n",
       "    .dataframe thead th {\n",
       "        text-align: right;\n",
       "    }\n",
       "</style>\n",
       "<table border=\"1\" class=\"dataframe\">\n",
       "  <thead>\n",
       "    <tr style=\"text-align: right;\">\n",
       "      <th></th>\n",
       "      <th>user id</th>\n",
       "      <th>test group</th>\n",
       "      <th>converted</th>\n",
       "      <th>total ads</th>\n",
       "      <th>most ads day</th>\n",
       "      <th>most ads hour</th>\n",
       "    </tr>\n",
       "  </thead>\n",
       "  <tbody>\n",
       "    <tr>\n",
       "      <th>0</th>\n",
       "      <td>1069124</td>\n",
       "      <td>ad</td>\n",
       "      <td>False</td>\n",
       "      <td>130</td>\n",
       "      <td>Monday</td>\n",
       "      <td>20</td>\n",
       "    </tr>\n",
       "    <tr>\n",
       "      <th>1</th>\n",
       "      <td>1119715</td>\n",
       "      <td>ad</td>\n",
       "      <td>False</td>\n",
       "      <td>93</td>\n",
       "      <td>Tuesday</td>\n",
       "      <td>22</td>\n",
       "    </tr>\n",
       "    <tr>\n",
       "      <th>2</th>\n",
       "      <td>1144181</td>\n",
       "      <td>ad</td>\n",
       "      <td>False</td>\n",
       "      <td>21</td>\n",
       "      <td>Tuesday</td>\n",
       "      <td>18</td>\n",
       "    </tr>\n",
       "    <tr>\n",
       "      <th>3</th>\n",
       "      <td>1435133</td>\n",
       "      <td>ad</td>\n",
       "      <td>False</td>\n",
       "      <td>355</td>\n",
       "      <td>Tuesday</td>\n",
       "      <td>10</td>\n",
       "    </tr>\n",
       "    <tr>\n",
       "      <th>4</th>\n",
       "      <td>1015700</td>\n",
       "      <td>ad</td>\n",
       "      <td>False</td>\n",
       "      <td>276</td>\n",
       "      <td>Friday</td>\n",
       "      <td>14</td>\n",
       "    </tr>\n",
       "  </tbody>\n",
       "</table>\n",
       "</div>"
      ],
      "text/plain": [
       "   user id test group  converted  total ads most ads day  most ads hour\n",
       "0  1069124         ad      False        130       Monday             20\n",
       "1  1119715         ad      False         93      Tuesday             22\n",
       "2  1144181         ad      False         21      Tuesday             18\n",
       "3  1435133         ad      False        355      Tuesday             10\n",
       "4  1015700         ad      False        276       Friday             14"
      ]
     },
     "execution_count": 150,
     "metadata": {},
     "output_type": "execute_result"
    }
   ],
   "source": [
    "#drop unecessary column\n",
    "df.drop('Unnamed: 0', axis=1, inplace=True)\n",
    "df.head()"
   ]
  },
  {
   "cell_type": "code",
   "execution_count": 151,
   "id": "4c917d43",
   "metadata": {},
   "outputs": [
    {
     "data": {
      "text/html": [
       "<div>\n",
       "<style scoped>\n",
       "    .dataframe tbody tr th:only-of-type {\n",
       "        vertical-align: middle;\n",
       "    }\n",
       "\n",
       "    .dataframe tbody tr th {\n",
       "        vertical-align: top;\n",
       "    }\n",
       "\n",
       "    .dataframe thead th {\n",
       "        text-align: right;\n",
       "    }\n",
       "</style>\n",
       "<table border=\"1\" class=\"dataframe\">\n",
       "  <thead>\n",
       "    <tr style=\"text-align: right;\">\n",
       "      <th></th>\n",
       "      <th>user_id</th>\n",
       "      <th>test_group</th>\n",
       "      <th>converted</th>\n",
       "      <th>total_ads</th>\n",
       "      <th>most_ads_day</th>\n",
       "      <th>most_ads_hour</th>\n",
       "    </tr>\n",
       "  </thead>\n",
       "  <tbody>\n",
       "    <tr>\n",
       "      <th>0</th>\n",
       "      <td>1069124</td>\n",
       "      <td>ad</td>\n",
       "      <td>False</td>\n",
       "      <td>130</td>\n",
       "      <td>Monday</td>\n",
       "      <td>20</td>\n",
       "    </tr>\n",
       "    <tr>\n",
       "      <th>1</th>\n",
       "      <td>1119715</td>\n",
       "      <td>ad</td>\n",
       "      <td>False</td>\n",
       "      <td>93</td>\n",
       "      <td>Tuesday</td>\n",
       "      <td>22</td>\n",
       "    </tr>\n",
       "    <tr>\n",
       "      <th>2</th>\n",
       "      <td>1144181</td>\n",
       "      <td>ad</td>\n",
       "      <td>False</td>\n",
       "      <td>21</td>\n",
       "      <td>Tuesday</td>\n",
       "      <td>18</td>\n",
       "    </tr>\n",
       "    <tr>\n",
       "      <th>3</th>\n",
       "      <td>1435133</td>\n",
       "      <td>ad</td>\n",
       "      <td>False</td>\n",
       "      <td>355</td>\n",
       "      <td>Tuesday</td>\n",
       "      <td>10</td>\n",
       "    </tr>\n",
       "    <tr>\n",
       "      <th>4</th>\n",
       "      <td>1015700</td>\n",
       "      <td>ad</td>\n",
       "      <td>False</td>\n",
       "      <td>276</td>\n",
       "      <td>Friday</td>\n",
       "      <td>14</td>\n",
       "    </tr>\n",
       "  </tbody>\n",
       "</table>\n",
       "</div>"
      ],
      "text/plain": [
       "   user_id test_group  converted  total_ads most_ads_day  most_ads_hour\n",
       "0  1069124         ad      False        130       Monday             20\n",
       "1  1119715         ad      False         93      Tuesday             22\n",
       "2  1144181         ad      False         21      Tuesday             18\n",
       "3  1435133         ad      False        355      Tuesday             10\n",
       "4  1015700         ad      False        276       Friday             14"
      ]
     },
     "execution_count": 151,
     "metadata": {},
     "output_type": "execute_result"
    }
   ],
   "source": [
    "# rename column for better format\n",
    "df.rename(columns=lambda x: x.replace(' ', '_'), inplace=True)\n",
    "df.head()"
   ]
  },
  {
   "cell_type": "markdown",
   "id": "9f5f12bf",
   "metadata": {},
   "source": [
    "## Exploratory Data Analysis"
   ]
  },
  {
   "cell_type": "code",
   "execution_count": 152,
   "id": "ef019f2c",
   "metadata": {},
   "outputs": [
    {
     "name": "stdout",
     "output_type": "stream",
     "text": [
      "test_group\n",
      "ad     564577\n",
      "psa     23524\n",
      "Name: user_id, dtype: int64\n"
     ]
    }
   ],
   "source": [
    "# Number of used_id by each test_group \n",
    "df_tg = df.groupby(['test_group'])['user_id'].nunique()\n",
    "print(df_tg)"
   ]
  },
  {
   "cell_type": "code",
   "execution_count": 153,
   "id": "ea062dcd",
   "metadata": {},
   "outputs": [
    {
     "data": {
      "image/png": "[encoded data removed]",
      "text/plain": [
       "<Figure size 640x480 with 1 Axes>"
      ]
     },
     "metadata": {},
     "output_type": "display_data"
    }
   ],
   "source": [
    "# Distribution variable user id by test group\n",
    "sns.countplot(data=df, x='test_group')\n",
    "plt.title('Distribution Variable User ID by Test Group')\n",
    "plt.xlabel('Test Group')\n",
    "plt.ylabel('User ID')\n",
    "plt.show()"
   ]
  },
  {
   "cell_type": "code",
   "execution_count": 154,
   "id": "908f7faf",
   "metadata": {},
   "outputs": [
    {
     "name": "stdout",
     "output_type": "stream",
     "text": [
      "converted\n",
      "False    573258\n",
      "True      14843\n",
      "Name: user_id, dtype: int64\n"
     ]
    }
   ],
   "source": [
    "# Number of uset_id by each test_group \n",
    "df_con = df.groupby(['converted'])['user_id'].nunique()\n",
    "print(df_con)"
   ]
  },
  {
   "cell_type": "code",
   "execution_count": 155,
   "id": "57544351",
   "metadata": {},
   "outputs": [
    {
     "data": {
      "image/png": "[encoded data removed]",
      "text/plain": [
       "<Figure size 640x480 with 1 Axes>"
      ]
     },
     "metadata": {},
     "output_type": "display_data"
    }
   ],
   "source": [
    "# Distribution variable user id by converted\n",
    "sns.countplot(data=df, x='converted')\n",
    "plt.title('Distribution Variable User ID by Converted')\n",
    "plt.xlabel('Converted')\n",
    "plt.ylabel('User ID')\n",
    "plt.show()"
   ]
  },
  {
   "cell_type": "code",
   "execution_count": 156,
   "id": "cfd4150a",
   "metadata": {},
   "outputs": [
    {
     "name": "stdout",
     "output_type": "stream",
     "text": [
      "Conversion rate = 2.52%\n"
     ]
    }
   ],
   "source": [
    "# Conversion rate calculation\n",
    "conversion_rate = (df['converted'].sum() / df['user_id'].nunique()) * 100\n",
    "\n",
    "# Display the conversion rate with two decimal places\n",
    "print('Conversion rate = {:.2f}%'.format(conversion_rate))"
   ]
  },
  {
   "cell_type": "markdown",
   "id": "08848b1d",
   "metadata": {},
   "source": [
    "The conversion rate we got doesn't prove that the ads are successful. We need to check more closely."
   ]
  },
  {
   "cell_type": "code",
   "execution_count": 157,
   "id": "7c6f68ee",
   "metadata": {},
   "outputs": [
    {
     "data": {
      "text/html": [
       "<div>\n",
       "<style scoped>\n",
       "    .dataframe tbody tr th:only-of-type {\n",
       "        vertical-align: middle;\n",
       "    }\n",
       "\n",
       "    .dataframe tbody tr th {\n",
       "        vertical-align: top;\n",
       "    }\n",
       "\n",
       "    .dataframe thead th {\n",
       "        text-align: right;\n",
       "    }\n",
       "</style>\n",
       "<table border=\"1\" class=\"dataframe\">\n",
       "  <thead>\n",
       "    <tr style=\"text-align: right;\">\n",
       "      <th></th>\n",
       "      <th>user_id</th>\n",
       "      <th>test_group</th>\n",
       "      <th>converted</th>\n",
       "      <th>total_ads</th>\n",
       "      <th>most_ads_day</th>\n",
       "      <th>most_ads_hour</th>\n",
       "    </tr>\n",
       "  </thead>\n",
       "  <tbody>\n",
       "    <tr>\n",
       "      <th>0</th>\n",
       "      <td>1069124</td>\n",
       "      <td>ad</td>\n",
       "      <td>False</td>\n",
       "      <td>130</td>\n",
       "      <td>Monday</td>\n",
       "      <td>20</td>\n",
       "    </tr>\n",
       "    <tr>\n",
       "      <th>1</th>\n",
       "      <td>1119715</td>\n",
       "      <td>ad</td>\n",
       "      <td>False</td>\n",
       "      <td>93</td>\n",
       "      <td>Tuesday</td>\n",
       "      <td>22</td>\n",
       "    </tr>\n",
       "    <tr>\n",
       "      <th>2</th>\n",
       "      <td>1144181</td>\n",
       "      <td>ad</td>\n",
       "      <td>False</td>\n",
       "      <td>21</td>\n",
       "      <td>Tuesday</td>\n",
       "      <td>18</td>\n",
       "    </tr>\n",
       "    <tr>\n",
       "      <th>3</th>\n",
       "      <td>1435133</td>\n",
       "      <td>ad</td>\n",
       "      <td>False</td>\n",
       "      <td>355</td>\n",
       "      <td>Tuesday</td>\n",
       "      <td>10</td>\n",
       "    </tr>\n",
       "    <tr>\n",
       "      <th>4</th>\n",
       "      <td>1015700</td>\n",
       "      <td>ad</td>\n",
       "      <td>False</td>\n",
       "      <td>276</td>\n",
       "      <td>Friday</td>\n",
       "      <td>14</td>\n",
       "    </tr>\n",
       "  </tbody>\n",
       "</table>\n",
       "</div>"
      ],
      "text/plain": [
       "   user_id test_group  converted  total_ads most_ads_day  most_ads_hour\n",
       "0  1069124         ad      False        130       Monday             20\n",
       "1  1119715         ad      False         93      Tuesday             22\n",
       "2  1144181         ad      False         21      Tuesday             18\n",
       "3  1435133         ad      False        355      Tuesday             10\n",
       "4  1015700         ad      False        276       Friday             14"
      ]
     },
     "execution_count": 157,
     "metadata": {},
     "output_type": "execute_result"
    }
   ],
   "source": [
    "# Calculate the purchase rate for each group separately\n",
    "# DataFrame for ad\n",
    "df_ad = df[df['test_group'] == 'ad']\n",
    "df_ad.head()"
   ]
  },
  {
   "cell_type": "code",
   "execution_count": 158,
   "id": "25f396b1",
   "metadata": {},
   "outputs": [
    {
     "data": {
      "text/html": [
       "<div>\n",
       "<style scoped>\n",
       "    .dataframe tbody tr th:only-of-type {\n",
       "        vertical-align: middle;\n",
       "    }\n",
       "\n",
       "    .dataframe tbody tr th {\n",
       "        vertical-align: top;\n",
       "    }\n",
       "\n",
       "    .dataframe thead th {\n",
       "        text-align: right;\n",
       "    }\n",
       "</style>\n",
       "<table border=\"1\" class=\"dataframe\">\n",
       "  <thead>\n",
       "    <tr style=\"text-align: right;\">\n",
       "      <th></th>\n",
       "      <th>user_id</th>\n",
       "      <th>test_group</th>\n",
       "      <th>converted</th>\n",
       "      <th>total_ads</th>\n",
       "      <th>most_ads_day</th>\n",
       "      <th>most_ads_hour</th>\n",
       "    </tr>\n",
       "  </thead>\n",
       "  <tbody>\n",
       "    <tr>\n",
       "      <th>18</th>\n",
       "      <td>900681</td>\n",
       "      <td>psa</td>\n",
       "      <td>False</td>\n",
       "      <td>248</td>\n",
       "      <td>Saturday</td>\n",
       "      <td>19</td>\n",
       "    </tr>\n",
       "    <tr>\n",
       "      <th>38</th>\n",
       "      <td>905704</td>\n",
       "      <td>psa</td>\n",
       "      <td>False</td>\n",
       "      <td>27</td>\n",
       "      <td>Thursday</td>\n",
       "      <td>8</td>\n",
       "    </tr>\n",
       "    <tr>\n",
       "      <th>68</th>\n",
       "      <td>904595</td>\n",
       "      <td>psa</td>\n",
       "      <td>False</td>\n",
       "      <td>13</td>\n",
       "      <td>Tuesday</td>\n",
       "      <td>19</td>\n",
       "    </tr>\n",
       "    <tr>\n",
       "      <th>140</th>\n",
       "      <td>901904</td>\n",
       "      <td>psa</td>\n",
       "      <td>False</td>\n",
       "      <td>32</td>\n",
       "      <td>Wednesday</td>\n",
       "      <td>19</td>\n",
       "    </tr>\n",
       "    <tr>\n",
       "      <th>157</th>\n",
       "      <td>902234</td>\n",
       "      <td>psa</td>\n",
       "      <td>False</td>\n",
       "      <td>105</td>\n",
       "      <td>Tuesday</td>\n",
       "      <td>19</td>\n",
       "    </tr>\n",
       "  </tbody>\n",
       "</table>\n",
       "</div>"
      ],
      "text/plain": [
       "     user_id test_group  converted  total_ads most_ads_day  most_ads_hour\n",
       "18    900681        psa      False        248     Saturday             19\n",
       "38    905704        psa      False         27     Thursday              8\n",
       "68    904595        psa      False         13      Tuesday             19\n",
       "140   901904        psa      False         32    Wednesday             19\n",
       "157   902234        psa      False        105      Tuesday             19"
      ]
     },
     "execution_count": 158,
     "metadata": {},
     "output_type": "execute_result"
    }
   ],
   "source": [
    "# DataFrame for psa\n",
    "df_psa = df[df['test_group'] == 'psa']\n",
    "df_psa.head()"
   ]
  },
  {
   "cell_type": "code",
   "execution_count": 166,
   "id": "39082d80",
   "metadata": {},
   "outputs": [
    {
     "name": "stdout",
     "output_type": "stream",
     "text": [
      "Purchase Rate for 'ad' Group: 2.55%\n",
      "Purchase Rate for 'psa' Group: 1.79%\n"
     ]
    }
   ],
   "source": [
    "# Calculate the number of conversions in the 'ad' group\n",
    "count_conversions_ad = converted_df_ad['user_id'].count()\n",
    "\n",
    "# Calculate the total number of observations in the 'ad' group\n",
    "total_observations_ad = df_ad['user_id'].nunique()\n",
    "\n",
    "# Calculate the purchase rate for the 'ad' group as a percentage with two decimal places\n",
    "purchase_rate_ad = (count_conversions_ad / total_observations_ad) * 100\n",
    "\n",
    "# Calculate the number of conversions in the 'psa' group\n",
    "count_conversions_psa = converted_df_psa['user_id'].count()\n",
    "\n",
    "# Calculate the total number of observations in the 'psa' group\n",
    "total_observations_psa = df_psa['user_id'].nunique()\n",
    "\n",
    "# Calculate the purchase rate for the 'psa' group as a percentage with two decimal places\n",
    "purchase_rate_psa = (count_conversions_psa / total_observations_psa) * 100\n",
    "\n",
    "# Display the purchase rate for each group as a percentage with two decimal places\n",
    "print(\"Purchase Rate for 'ad' Group: {:.2f}%\".format(purchase_rate_ad))\n",
    "print(\"Purchase Rate for 'psa' Group: {:.2f}%\".format(purchase_rate_psa))"
   ]
  },
  {
   "cell_type": "code",
   "execution_count": 160,
   "id": "802aa285",
   "metadata": {},
   "outputs": [
    {
     "data": {
      "image/png": "[encoded data removed]",
      "text/plain": [
       "<Figure size 1000x600 with 1 Axes>"
      ]
     },
     "metadata": {},
     "output_type": "display_data"
    }
   ],
   "source": [
    "# Visualize\n",
    "fig, ax = plt.subplots(nrows=1, ncols=1, figsize=(10, 6))\n",
    "\n",
    "# Buat plot\n",
    "ax.bar('ad', pr_ad, label='Ads')\n",
    "ax.bar('psa', pr_psa, label='PSA')\n",
    "\n",
    "# Styling plot\n",
    "ax.set_ylabel('Purchase Rate', fontsize=14)\n",
    "ax.set_xlabel('Test Group', fontsize=14)\n",
    "ax.set_xticklabels(labels=['Ads', 'PSA'], fontsize=14)\n",
    "ax.legend(fontsize=14)\n",
    "plt.show()"
   ]
  },
  {
   "cell_type": "markdown",
   "id": "46ebe4ab",
   "metadata": {},
   "source": [
    "The conversion rate results indicate that the Ads are more successful than the PSA, with a conversion rate of 2.55% compared to 1.79%. This suggests that the Ads are effective, but we need a statistical analysis to confirm if this difference is significant and if the campaign can be considered a success."
   ]
  },
  {
   "cell_type": "markdown",
   "id": "5e8e78cb",
   "metadata": {},
   "source": [
    "## Hypothesis Testing"
   ]
  },
  {
   "cell_type": "markdown",
   "id": "779417ca",
   "metadata": {},
   "source": [
    "### Define Null hypothesis ($H_0$) and alternative hypothesis ($H_1$)"
   ]
  },
  {
   "cell_type": "markdown",
   "id": "aafe13fe",
   "metadata": {},
   "source": [
    "Make the hypothesis :\n",
    "\n",
    "- Hypothesis Null ($H_0$): There is no significant difference between the conversion rates of the Ads group and the PSA group.\n",
    "\n",
    "- Alternative Hypothesis ($H_1$): The conversion rate of the Ads group is significantly greater than the conversion rate of the PSA group.\n",
    "------------\n",
    "Set siginificance level (alpha) = 0.05"
   ]
  },
  {
   "cell_type": "code",
   "execution_count": 196,
   "id": "cbf5dc63",
   "metadata": {},
   "outputs": [
    {
     "name": "stdout",
     "output_type": "stream",
     "text": [
      "There is no significant difference between the conversion rates of the Ads group and the PSA group.\n",
      "Z-Score: 7.3700781265454145\n",
      "P-Value: 8.526403580779863e-14\n"
     ]
    }
   ],
   "source": [
    "# Data for 'ad' and 'psa' groups\n",
    "count_purchase = [count_conversions_ad, count_conversions_psa]  # Number of conversions in each group\n",
    "count_observation = [total_observations_ad, total_observations_psa]  # Total number of observations in each group\n",
    "\n",
    "# Perform one-sided Z-test (greater)\n",
    "z_stat, p_value = proportions_ztest(count=count_purchase, nobs=count_observation, alternative='larger')\n",
    "\n",
    "# Determine the test result\n",
    "alpha = 0.05  # Significance level\n",
    "if p_value < alpha:\n",
    "    print('There is no significant difference between the conversion rates of the Ads group and the PSA group.')\n",
    "else:\n",
    "    print('Test Result: Not enough evidence to reject the null hypothesis. The conversion rate of the Ads group is significantly greater than the conversion rate of the PSA group.')\n",
    "\n",
    "# Display the Z-Score and P-Value\n",
    "print(\"Z-Score:\", z_stat)\n",
    "print(\"P-Value:\", p_value)\n"
   ]
  },
  {
   "cell_type": "markdown",
   "id": "4f9ee2cd",
   "metadata": {},
   "source": [
    "### Create decision rules"
   ]
  },
  {
   "cell_type": "code",
   "execution_count": 190,
   "id": "ffc0da5d",
   "metadata": {},
   "outputs": [
    {
     "name": "stdout",
     "output_type": "stream",
     "text": [
      "z critical value : 1.6449\n"
     ]
    }
   ],
   "source": [
    "# Significance level (alpha)\n",
    "alpha = 0.05  # 5%\n",
    "\n",
    "# Calculate the critical value for a one-sided test (right tail)\n",
    "z_crit = stats.norm.ppf(1 - alpha)\n",
    "print(f'z critical value : {z_crit:.4f}')"
   ]
  },
  {
   "cell_type": "code",
   "execution_count": 191,
   "id": "9fa85367",
   "metadata": {},
   "outputs": [
    {
     "name": "stdout",
     "output_type": "stream",
     "text": [
      "Decision : Reject Null Hypothesis\n"
     ]
    }
   ],
   "source": [
    "# Make decisions from z-stats and z-crit\n",
    "if z_stat > z_crit:\n",
    "  print('Decision : Reject Null Hypothesis')\n",
    "else:\n",
    "  print('Decision : Fail to Reject Null Hypothesis')"
   ]
  },
  {
   "cell_type": "code",
   "execution_count": 192,
   "id": "a567b6ce",
   "metadata": {},
   "outputs": [
    {
     "name": "stdout",
     "output_type": "stream",
     "text": [
      "Decision : Reject Null Hypothesis\n"
     ]
    }
   ],
   "source": [
    "# Comparison of P-Value with alpha.\n",
    "if p_value<0.05:\n",
    "  print('Decision : Reject Null Hypothesis')\n",
    "else:\n",
    "  print('Decision : Fail to Reject Null Hypothesis')"
   ]
  },
  {
   "cell_type": "code",
   "execution_count": 195,
   "id": "73275b8e",
   "metadata": {},
   "outputs": [
    {
     "data": {
      "image/png": "[encoded data removed]",
      "text/plain": [
       "<Figure size 1000x700 with 1 Axes>"
      ]
     },
     "metadata": {},
     "output_type": "display_data"
    },
    {
     "name": "stdout",
     "output_type": "stream",
     "text": [
      "Z-Statistic: 7.3701\n",
      "Z-Critical (Right): 1.6450\n"
     ]
    }
   ],
   "source": [
    "# Visualization\n",
    "# Set up the figure\n",
    "fig, ax = plt.subplots(nrows=1, ncols=1, figsize=(10, 7))\n",
    "\n",
    "# Plot the standard normal distribution\n",
    "x = np.arange(-4, 4, 0.001)\n",
    "plt.plot(x, stats.norm.pdf(x, 0, 1), color='blue', label='Standard Normal Distribution')\n",
    "\n",
    "# Define the z-critical value for the right tail (adjust this value according to your significance level)\n",
    "z_crit_right = 1.645  # Right critical value for alpha = 0.05 (one-sided)\n",
    "\n",
    "# Plot the alpha region (right tail)\n",
    "x_alpha_right = np.arange(z_crit_right, 4, 0.001)\n",
    "y_alpha_right = stats.norm.pdf(x_alpha_right)\n",
    "plt.fill_between(x=x_alpha_right, y1=y_alpha_right, facecolor='red', alpha=0.35, label='Alpha Region (Right)')\n",
    "\n",
    "# Plot the p-value region (for visualization purposes)\n",
    "x_pvalue = np.arange(z_stat, 4, 0.001)  # Adjust the range accordingly\n",
    "y_pvalue = stats.norm.pdf(x_pvalue)\n",
    "plt.fill_between(x=x_pvalue, y1=y_pvalue, facecolor='green', alpha=0.35, label='P-Value Region')\n",
    "\n",
    "# Plot the z-statistic and z-critical value\n",
    "plt.axvline(np.round(z_stat, 4), color=\"green\", linestyle=\"--\", label=\"Z-Statistic\")\n",
    "plt.axvline(z_crit_right, color=\"red\", linestyle=\"--\", label=\"Z-Critical (Right)\")\n",
    "\n",
    "# Add labels, legend, and show the plot\n",
    "plt.legend()\n",
    "plt.xlabel(\"Z\")\n",
    "plt.ylabel(\"Density\")\n",
    "plt.title(\"One-Sided Z-Test Visualization\")\n",
    "plt.grid(True)\n",
    "plt.show()\n",
    "\n",
    "# Print z-statistic and z-critical value\n",
    "print(f\"Z-Statistic: {z_stat:.4f}\")\n",
    "print(f\"Z-Critical (Right): {z_crit_right:.4f}\")\n"
   ]
  },
  {
   "cell_type": "markdown",
   "id": "ac11c695",
   "metadata": {},
   "source": [
    "### Conclution"
   ]
  },
  {
   "cell_type": "markdown",
   "id": "5b12a455",
   "metadata": {},
   "source": [
    "Based on the results of the z-test and confidence interval calculations, here are the conclusions that can be drawn:\n",
    "\n",
    "- Statistical Conclusion:\n",
    " - The z-test results indicate a significant difference between the Ads group and the PSA group in terms of conversion rates."
   ]
  }
 ],
 "metadata": {
  "kernelspec": {
   "display_name": "Python 3 (ipykernel)",
   "language": "python",
   "name": "python3"
  },
  "language_info": {
   "codemirror_mode": {
    "name": "ipython",
    "version": 3
   },
   "file_extension": ".py",
   "mimetype": "text/x-python",
   "name": "python",
   "nbconvert_exporter": "python",
   "pygments_lexer": "ipython3",
   "version": "3.9.13"
  }
 },
 "nbformat": 4,
 "nbformat_minor": 5
}
